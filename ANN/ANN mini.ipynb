{
 "cells": [
  {
   "cell_type": "markdown",
   "metadata": {},
   "source": [
    "# Part 1 - Data Preprocessing\n",
    "\n"
   ]
  },
  {
   "cell_type": "code",
   "execution_count": 1,
   "metadata": {},
   "outputs": [],
   "source": [
    "# Importing the libraries\n",
    "import numpy as np\n",
    "import matplotlib.pyplot as plt\n",
    "import pandas as pd"
   ]
  },
  {
   "cell_type": "code",
   "execution_count": 2,
   "metadata": {},
   "outputs": [
    {
     "data": {
      "text/plain": [
       "'F:\\\\classes\\\\Python_learning\\\\Notebooks\\\\ANN'"
      ]
     },
     "execution_count": 2,
     "metadata": {},
     "output_type": "execute_result"
    }
   ],
   "source": [
    "import os\n",
    "os.getcwd()"
   ]
  },
  {
   "cell_type": "code",
   "execution_count": 3,
   "metadata": {},
   "outputs": [],
   "source": [
    "os.chdir(\"F:\\\\dataset_projects\\\\ANN\")"
   ]
  },
  {
   "cell_type": "code",
   "execution_count": 4,
   "metadata": {},
   "outputs": [
    {
     "data": {
      "text/html": [
       "<div>\n",
       "<style scoped>\n",
       "    .dataframe tbody tr th:only-of-type {\n",
       "        vertical-align: middle;\n",
       "    }\n",
       "\n",
       "    .dataframe tbody tr th {\n",
       "        vertical-align: top;\n",
       "    }\n",
       "\n",
       "    .dataframe thead th {\n",
       "        text-align: right;\n",
       "    }\n",
       "</style>\n",
       "<table border=\"1\" class=\"dataframe\">\n",
       "  <thead>\n",
       "    <tr style=\"text-align: right;\">\n",
       "      <th></th>\n",
       "      <th>RowNumber</th>\n",
       "      <th>CustomerId</th>\n",
       "      <th>Surname</th>\n",
       "      <th>CreditScore</th>\n",
       "      <th>Geography</th>\n",
       "      <th>Gender</th>\n",
       "      <th>Age</th>\n",
       "      <th>Tenure</th>\n",
       "      <th>Balance</th>\n",
       "      <th>NumOfProducts</th>\n",
       "      <th>HasCrCard</th>\n",
       "      <th>IsActiveMember</th>\n",
       "      <th>EstimatedSalary</th>\n",
       "      <th>Exited</th>\n",
       "    </tr>\n",
       "  </thead>\n",
       "  <tbody>\n",
       "    <tr>\n",
       "      <th>0</th>\n",
       "      <td>1</td>\n",
       "      <td>15634602</td>\n",
       "      <td>Hargrave</td>\n",
       "      <td>619</td>\n",
       "      <td>France</td>\n",
       "      <td>Female</td>\n",
       "      <td>42</td>\n",
       "      <td>2</td>\n",
       "      <td>0.00</td>\n",
       "      <td>1</td>\n",
       "      <td>1</td>\n",
       "      <td>1</td>\n",
       "      <td>101348.88</td>\n",
       "      <td>1</td>\n",
       "    </tr>\n",
       "    <tr>\n",
       "      <th>1</th>\n",
       "      <td>2</td>\n",
       "      <td>15647311</td>\n",
       "      <td>Hill</td>\n",
       "      <td>608</td>\n",
       "      <td>Spain</td>\n",
       "      <td>Female</td>\n",
       "      <td>41</td>\n",
       "      <td>1</td>\n",
       "      <td>83807.86</td>\n",
       "      <td>1</td>\n",
       "      <td>0</td>\n",
       "      <td>1</td>\n",
       "      <td>112542.58</td>\n",
       "      <td>0</td>\n",
       "    </tr>\n",
       "    <tr>\n",
       "      <th>2</th>\n",
       "      <td>3</td>\n",
       "      <td>15619304</td>\n",
       "      <td>Onio</td>\n",
       "      <td>502</td>\n",
       "      <td>France</td>\n",
       "      <td>Female</td>\n",
       "      <td>42</td>\n",
       "      <td>8</td>\n",
       "      <td>159660.80</td>\n",
       "      <td>3</td>\n",
       "      <td>1</td>\n",
       "      <td>0</td>\n",
       "      <td>113931.57</td>\n",
       "      <td>1</td>\n",
       "    </tr>\n",
       "    <tr>\n",
       "      <th>3</th>\n",
       "      <td>4</td>\n",
       "      <td>15701354</td>\n",
       "      <td>Boni</td>\n",
       "      <td>699</td>\n",
       "      <td>France</td>\n",
       "      <td>Female</td>\n",
       "      <td>39</td>\n",
       "      <td>1</td>\n",
       "      <td>0.00</td>\n",
       "      <td>2</td>\n",
       "      <td>0</td>\n",
       "      <td>0</td>\n",
       "      <td>93826.63</td>\n",
       "      <td>0</td>\n",
       "    </tr>\n",
       "    <tr>\n",
       "      <th>4</th>\n",
       "      <td>5</td>\n",
       "      <td>15737888</td>\n",
       "      <td>Mitchell</td>\n",
       "      <td>850</td>\n",
       "      <td>Spain</td>\n",
       "      <td>Female</td>\n",
       "      <td>43</td>\n",
       "      <td>2</td>\n",
       "      <td>125510.82</td>\n",
       "      <td>1</td>\n",
       "      <td>1</td>\n",
       "      <td>1</td>\n",
       "      <td>79084.10</td>\n",
       "      <td>0</td>\n",
       "    </tr>\n",
       "  </tbody>\n",
       "</table>\n",
       "</div>"
      ],
      "text/plain": [
       "   RowNumber  CustomerId   Surname  CreditScore Geography  Gender  Age  \\\n",
       "0          1    15634602  Hargrave          619    France  Female   42   \n",
       "1          2    15647311      Hill          608     Spain  Female   41   \n",
       "2          3    15619304      Onio          502    France  Female   42   \n",
       "3          4    15701354      Boni          699    France  Female   39   \n",
       "4          5    15737888  Mitchell          850     Spain  Female   43   \n",
       "\n",
       "   Tenure    Balance  NumOfProducts  HasCrCard  IsActiveMember  \\\n",
       "0       2       0.00              1          1               1   \n",
       "1       1   83807.86              1          0               1   \n",
       "2       8  159660.80              3          1               0   \n",
       "3       1       0.00              2          0               0   \n",
       "4       2  125510.82              1          1               1   \n",
       "\n",
       "   EstimatedSalary  Exited  \n",
       "0        101348.88       1  \n",
       "1        112542.58       0  \n",
       "2        113931.57       1  \n",
       "3         93826.63       0  \n",
       "4         79084.10       0  "
      ]
     },
     "execution_count": 4,
     "metadata": {},
     "output_type": "execute_result"
    }
   ],
   "source": [
    "# Importing the dataset\n",
    "dataset = pd.read_csv('Churn_Modelling_1.csv')\n",
    "dataset.head()"
   ]
  },
  {
   "cell_type": "code",
   "execution_count": 5,
   "metadata": {},
   "outputs": [
    {
     "data": {
      "text/plain": [
       "(9990, 14)"
      ]
     },
     "execution_count": 5,
     "metadata": {},
     "output_type": "execute_result"
    }
   ],
   "source": [
    "dataset.shape"
   ]
  },
  {
   "cell_type": "code",
   "execution_count": 6,
   "metadata": {},
   "outputs": [
    {
     "data": {
      "text/html": [
       "<div>\n",
       "<style scoped>\n",
       "    .dataframe tbody tr th:only-of-type {\n",
       "        vertical-align: middle;\n",
       "    }\n",
       "\n",
       "    .dataframe tbody tr th {\n",
       "        vertical-align: top;\n",
       "    }\n",
       "\n",
       "    .dataframe thead th {\n",
       "        text-align: right;\n",
       "    }\n",
       "</style>\n",
       "<table border=\"1\" class=\"dataframe\">\n",
       "  <thead>\n",
       "    <tr style=\"text-align: right;\">\n",
       "      <th></th>\n",
       "      <th>RowNumber</th>\n",
       "      <th>CustomerId</th>\n",
       "      <th>CreditScore</th>\n",
       "      <th>Age</th>\n",
       "      <th>Tenure</th>\n",
       "      <th>Balance</th>\n",
       "      <th>NumOfProducts</th>\n",
       "      <th>HasCrCard</th>\n",
       "      <th>IsActiveMember</th>\n",
       "      <th>EstimatedSalary</th>\n",
       "      <th>Exited</th>\n",
       "    </tr>\n",
       "  </thead>\n",
       "  <tbody>\n",
       "    <tr>\n",
       "      <th>count</th>\n",
       "      <td>9990.000000</td>\n",
       "      <td>9.990000e+03</td>\n",
       "      <td>9990.000000</td>\n",
       "      <td>9990.000000</td>\n",
       "      <td>9990.000000</td>\n",
       "      <td>9990.000000</td>\n",
       "      <td>9990.000000</td>\n",
       "      <td>9990.000000</td>\n",
       "      <td>9990.000000</td>\n",
       "      <td>9990.000000</td>\n",
       "      <td>9990.000000</td>\n",
       "    </tr>\n",
       "    <tr>\n",
       "      <th>mean</th>\n",
       "      <td>5005.232432</td>\n",
       "      <td>1.569090e+07</td>\n",
       "      <td>650.517417</td>\n",
       "      <td>38.923323</td>\n",
       "      <td>5.010911</td>\n",
       "      <td>76498.012142</td>\n",
       "      <td>1.529730</td>\n",
       "      <td>0.705506</td>\n",
       "      <td>0.515115</td>\n",
       "      <td>100088.744161</td>\n",
       "      <td>0.203303</td>\n",
       "    </tr>\n",
       "    <tr>\n",
       "      <th>std</th>\n",
       "      <td>2884.452038</td>\n",
       "      <td>7.194938e+04</td>\n",
       "      <td>96.675835</td>\n",
       "      <td>10.489822</td>\n",
       "      <td>2.891847</td>\n",
       "      <td>62385.756190</td>\n",
       "      <td>0.581239</td>\n",
       "      <td>0.455838</td>\n",
       "      <td>0.499796</td>\n",
       "      <td>57515.531698</td>\n",
       "      <td>0.402476</td>\n",
       "    </tr>\n",
       "    <tr>\n",
       "      <th>min</th>\n",
       "      <td>1.000000</td>\n",
       "      <td>1.556570e+07</td>\n",
       "      <td>350.000000</td>\n",
       "      <td>18.000000</td>\n",
       "      <td>0.000000</td>\n",
       "      <td>0.000000</td>\n",
       "      <td>1.000000</td>\n",
       "      <td>0.000000</td>\n",
       "      <td>0.000000</td>\n",
       "      <td>11.580000</td>\n",
       "      <td>0.000000</td>\n",
       "    </tr>\n",
       "    <tr>\n",
       "      <th>25%</th>\n",
       "      <td>2508.250000</td>\n",
       "      <td>1.562834e+07</td>\n",
       "      <td>584.000000</td>\n",
       "      <td>32.000000</td>\n",
       "      <td>3.000000</td>\n",
       "      <td>0.000000</td>\n",
       "      <td>1.000000</td>\n",
       "      <td>0.000000</td>\n",
       "      <td>0.000000</td>\n",
       "      <td>51012.472500</td>\n",
       "      <td>0.000000</td>\n",
       "    </tr>\n",
       "    <tr>\n",
       "      <th>50%</th>\n",
       "      <td>5005.500000</td>\n",
       "      <td>1.569071e+07</td>\n",
       "      <td>652.000000</td>\n",
       "      <td>37.000000</td>\n",
       "      <td>5.000000</td>\n",
       "      <td>97221.520000</td>\n",
       "      <td>1.000000</td>\n",
       "      <td>1.000000</td>\n",
       "      <td>1.000000</td>\n",
       "      <td>100185.240000</td>\n",
       "      <td>0.000000</td>\n",
       "    </tr>\n",
       "    <tr>\n",
       "      <th>75%</th>\n",
       "      <td>7502.750000</td>\n",
       "      <td>1.575323e+07</td>\n",
       "      <td>718.000000</td>\n",
       "      <td>44.000000</td>\n",
       "      <td>7.000000</td>\n",
       "      <td>127641.417500</td>\n",
       "      <td>2.000000</td>\n",
       "      <td>1.000000</td>\n",
       "      <td>1.000000</td>\n",
       "      <td>149395.882500</td>\n",
       "      <td>0.000000</td>\n",
       "    </tr>\n",
       "    <tr>\n",
       "      <th>max</th>\n",
       "      <td>10000.000000</td>\n",
       "      <td>1.581569e+07</td>\n",
       "      <td>850.000000</td>\n",
       "      <td>92.000000</td>\n",
       "      <td>10.000000</td>\n",
       "      <td>250898.090000</td>\n",
       "      <td>4.000000</td>\n",
       "      <td>1.000000</td>\n",
       "      <td>1.000000</td>\n",
       "      <td>199992.480000</td>\n",
       "      <td>1.000000</td>\n",
       "    </tr>\n",
       "  </tbody>\n",
       "</table>\n",
       "</div>"
      ],
      "text/plain": [
       "          RowNumber    CustomerId  CreditScore          Age       Tenure  \\\n",
       "count   9990.000000  9.990000e+03  9990.000000  9990.000000  9990.000000   \n",
       "mean    5005.232432  1.569090e+07   650.517417    38.923323     5.010911   \n",
       "std     2884.452038  7.194938e+04    96.675835    10.489822     2.891847   \n",
       "min        1.000000  1.556570e+07   350.000000    18.000000     0.000000   \n",
       "25%     2508.250000  1.562834e+07   584.000000    32.000000     3.000000   \n",
       "50%     5005.500000  1.569071e+07   652.000000    37.000000     5.000000   \n",
       "75%     7502.750000  1.575323e+07   718.000000    44.000000     7.000000   \n",
       "max    10000.000000  1.581569e+07   850.000000    92.000000    10.000000   \n",
       "\n",
       "             Balance  NumOfProducts    HasCrCard  IsActiveMember  \\\n",
       "count    9990.000000    9990.000000  9990.000000     9990.000000   \n",
       "mean    76498.012142       1.529730     0.705506        0.515115   \n",
       "std     62385.756190       0.581239     0.455838        0.499796   \n",
       "min         0.000000       1.000000     0.000000        0.000000   \n",
       "25%         0.000000       1.000000     0.000000        0.000000   \n",
       "50%     97221.520000       1.000000     1.000000        1.000000   \n",
       "75%    127641.417500       2.000000     1.000000        1.000000   \n",
       "max    250898.090000       4.000000     1.000000        1.000000   \n",
       "\n",
       "       EstimatedSalary       Exited  \n",
       "count      9990.000000  9990.000000  \n",
       "mean     100088.744161     0.203303  \n",
       "std       57515.531698     0.402476  \n",
       "min          11.580000     0.000000  \n",
       "25%       51012.472500     0.000000  \n",
       "50%      100185.240000     0.000000  \n",
       "75%      149395.882500     0.000000  \n",
       "max      199992.480000     1.000000  "
      ]
     },
     "execution_count": 6,
     "metadata": {},
     "output_type": "execute_result"
    }
   ],
   "source": [
    "dataset.describe()"
   ]
  },
  {
   "cell_type": "code",
   "execution_count": 7,
   "metadata": {},
   "outputs": [],
   "source": [
    "X = dataset.iloc[:, 3:13].values\n",
    "y = dataset.iloc[:, 13].values\n"
   ]
  },
  {
   "cell_type": "code",
   "execution_count": 8,
   "metadata": {},
   "outputs": [
    {
     "data": {
      "text/plain": [
       "array([[619, 'France', 'Female', ..., 1, 1, 101348.88],\n",
       "       [608, 'Spain', 'Female', ..., 0, 1, 112542.58],\n",
       "       [502, 'France', 'Female', ..., 1, 0, 113931.57],\n",
       "       ...,\n",
       "       [709, 'France', 'Female', ..., 0, 1, 42085.58],\n",
       "       [772, 'Germany', 'Male', ..., 1, 0, 92888.52],\n",
       "       [792, 'France', 'Female', ..., 1, 0, 38190.78]], dtype=object)"
      ]
     },
     "execution_count": 8,
     "metadata": {},
     "output_type": "execute_result"
    }
   ],
   "source": [
    "X"
   ]
  },
  {
   "cell_type": "code",
   "execution_count": 9,
   "metadata": {},
   "outputs": [
    {
     "data": {
      "text/plain": [
       "array([1, 0, 1, ..., 1, 1, 0], dtype=int64)"
      ]
     },
     "execution_count": 9,
     "metadata": {},
     "output_type": "execute_result"
    }
   ],
   "source": [
    "y"
   ]
  },
  {
   "cell_type": "code",
   "execution_count": 10,
   "metadata": {},
   "outputs": [],
   "source": [
    "# # Encoding categorical data\n",
    "# from sklearn.preprocessing import LabelEncoder, OneHotEncoder\n",
    "# labelencoder_X_1 = LabelEncoder()\n",
    "# X[:, 1] = labelencoder_X_1.fit_transform(X[:, 1])\n",
    "# labelencoder_X_2 = LabelEncoder()\n",
    "# X[:, 2] = labelencoder_X_2.fit_transform(X[:, 2])\n",
    "# onehotencoder = OneHotEncoder(categorical_features = [1])\n",
    "# X = onehotencoder.fit_transform(X).toarray()\n",
    "# X = X[:, 1:]\n"
   ]
  },
  {
   "cell_type": "code",
   "execution_count": 10,
   "metadata": {},
   "outputs": [],
   "source": [
    "# Encoding categorical data\n",
    "from sklearn.preprocessing import LabelEncoder, OneHotEncoder\n"
   ]
  },
  {
   "cell_type": "code",
   "execution_count": null,
   "metadata": {},
   "outputs": [],
   "source": []
  },
  {
   "cell_type": "code",
   "execution_count": null,
   "metadata": {},
   "outputs": [],
   "source": []
  },
  {
   "cell_type": "code",
   "execution_count": 11,
   "metadata": {},
   "outputs": [
    {
     "data": {
      "text/plain": [
       "array([0, 2, 0, ..., 0, 1, 0], dtype=object)"
      ]
     },
     "execution_count": 11,
     "metadata": {},
     "output_type": "execute_result"
    }
   ],
   "source": [
    "labelencoder_X_1 = LabelEncoder()\n",
    "X[:, 1] = labelencoder_X_1.fit_transform(X[:, 1])\n",
    "X[:, 1]"
   ]
  },
  {
   "cell_type": "code",
   "execution_count": 12,
   "metadata": {},
   "outputs": [
    {
     "data": {
      "text/plain": [
       "array([0, 2, 0, 0, 2, 2, 0, 1, 0, 0], dtype=object)"
      ]
     },
     "execution_count": 12,
     "metadata": {},
     "output_type": "execute_result"
    }
   ],
   "source": [
    "X[:, 1][0:10]"
   ]
  },
  {
   "cell_type": "code",
   "execution_count": 13,
   "metadata": {},
   "outputs": [
    {
     "data": {
      "text/plain": [
       "array([0, 0, 0, ..., 0, 1, 0], dtype=object)"
      ]
     },
     "execution_count": 13,
     "metadata": {},
     "output_type": "execute_result"
    }
   ],
   "source": [
    "labelencoder_X_2 = LabelEncoder()\n",
    "X[:, 2] = labelencoder_X_2.fit_transform(X[:, 2])\n",
    "X[:, 2]"
   ]
  },
  {
   "cell_type": "code",
   "execution_count": 14,
   "metadata": {},
   "outputs": [
    {
     "data": {
      "text/plain": [
       "array([[1.0000000e+00, 0.0000000e+00, 0.0000000e+00, ..., 1.0000000e+00,\n",
       "        1.0000000e+00, 1.0134888e+05],\n",
       "       [0.0000000e+00, 0.0000000e+00, 1.0000000e+00, ..., 0.0000000e+00,\n",
       "        1.0000000e+00, 1.1254258e+05],\n",
       "       [1.0000000e+00, 0.0000000e+00, 0.0000000e+00, ..., 1.0000000e+00,\n",
       "        0.0000000e+00, 1.1393157e+05],\n",
       "       ...,\n",
       "       [1.0000000e+00, 0.0000000e+00, 0.0000000e+00, ..., 0.0000000e+00,\n",
       "        1.0000000e+00, 4.2085580e+04],\n",
       "       [0.0000000e+00, 1.0000000e+00, 0.0000000e+00, ..., 1.0000000e+00,\n",
       "        0.0000000e+00, 9.2888520e+04],\n",
       "       [1.0000000e+00, 0.0000000e+00, 0.0000000e+00, ..., 1.0000000e+00,\n",
       "        0.0000000e+00, 3.8190780e+04]])"
      ]
     },
     "execution_count": 14,
     "metadata": {},
     "output_type": "execute_result"
    }
   ],
   "source": [
    "onehotencoder = OneHotEncoder(categorical_features = [1])\n",
    "X = onehotencoder.fit_transform(X).toarray()\n",
    "X"
   ]
  },
  {
   "cell_type": "code",
   "execution_count": 15,
   "metadata": {},
   "outputs": [
    {
     "data": {
      "text/plain": [
       "array([[1.0000000e+00, 0.0000000e+00, 0.0000000e+00, 6.1900000e+02,\n",
       "        0.0000000e+00, 4.2000000e+01, 2.0000000e+00, 0.0000000e+00,\n",
       "        1.0000000e+00, 1.0000000e+00, 1.0000000e+00, 1.0134888e+05],\n",
       "       [0.0000000e+00, 0.0000000e+00, 1.0000000e+00, 6.0800000e+02,\n",
       "        0.0000000e+00, 4.1000000e+01, 1.0000000e+00, 8.3807860e+04,\n",
       "        1.0000000e+00, 0.0000000e+00, 1.0000000e+00, 1.1254258e+05],\n",
       "       [1.0000000e+00, 0.0000000e+00, 0.0000000e+00, 5.0200000e+02,\n",
       "        0.0000000e+00, 4.2000000e+01, 8.0000000e+00, 1.5966080e+05,\n",
       "        3.0000000e+00, 1.0000000e+00, 0.0000000e+00, 1.1393157e+05]])"
      ]
     },
     "execution_count": 15,
     "metadata": {},
     "output_type": "execute_result"
    }
   ],
   "source": [
    "X[0:3]"
   ]
  },
  {
   "cell_type": "code",
   "execution_count": 16,
   "metadata": {},
   "outputs": [
    {
     "data": {
      "text/plain": [
       "array([[0.0000000e+00, 0.0000000e+00, 6.1900000e+02, ..., 1.0000000e+00,\n",
       "        1.0000000e+00, 1.0134888e+05],\n",
       "       [0.0000000e+00, 1.0000000e+00, 6.0800000e+02, ..., 0.0000000e+00,\n",
       "        1.0000000e+00, 1.1254258e+05],\n",
       "       [0.0000000e+00, 0.0000000e+00, 5.0200000e+02, ..., 1.0000000e+00,\n",
       "        0.0000000e+00, 1.1393157e+05],\n",
       "       ...,\n",
       "       [0.0000000e+00, 0.0000000e+00, 7.0900000e+02, ..., 0.0000000e+00,\n",
       "        1.0000000e+00, 4.2085580e+04],\n",
       "       [1.0000000e+00, 0.0000000e+00, 7.7200000e+02, ..., 1.0000000e+00,\n",
       "        0.0000000e+00, 9.2888520e+04],\n",
       "       [0.0000000e+00, 0.0000000e+00, 7.9200000e+02, ..., 1.0000000e+00,\n",
       "        0.0000000e+00, 3.8190780e+04]])"
      ]
     },
     "execution_count": 16,
     "metadata": {},
     "output_type": "execute_result"
    }
   ],
   "source": [
    "X = X[:, 1:]\n",
    "X"
   ]
  },
  {
   "cell_type": "code",
   "execution_count": 17,
   "metadata": {},
   "outputs": [],
   "source": [
    "# Splitting the dataset into the Training set and Test set\n",
    "from sklearn.model_selection import train_test_split\n",
    "X_train, X_test, y_train, y_test = train_test_split(X, y, test_size = 0.2, random_state = 0)"
   ]
  },
  {
   "cell_type": "code",
   "execution_count": 18,
   "metadata": {},
   "outputs": [],
   "source": [
    "# Feature Scaling\n",
    "from sklearn.preprocessing import StandardScaler\n",
    "sc = StandardScaler()\n",
    "X_train = sc.fit_transform(X_train)\n",
    "X_test = sc.transform(X_test)\n"
   ]
  },
  {
   "cell_type": "code",
   "execution_count": 19,
   "metadata": {},
   "outputs": [
    {
     "data": {
      "text/plain": [
       "array([[ 1.72171011, -0.57908406,  1.08838629, ..., -1.53695195,\n",
       "         0.9730848 , -0.86368396],\n",
       "       [-0.58081787,  1.72686502,  0.72771878, ..., -1.53695195,\n",
       "         0.9730848 ,  0.30350613],\n",
       "       [-0.58081787, -0.57908406, -0.0245306 , ...,  0.65063843,\n",
       "         0.9730848 ,  1.55252861],\n",
       "       ...,\n",
       "       [-0.58081787, -0.57908406, -0.22032153, ...,  0.65063843,\n",
       "         0.9730848 , -1.45374831],\n",
       "       [-0.58081787,  1.72686502,  0.57314699, ...,  0.65063843,\n",
       "         0.9730848 , -1.31558336],\n",
       "       [-0.58081787, -0.57908406, -0.01422581, ...,  0.65063843,\n",
       "         0.9730848 , -0.51456556]])"
      ]
     },
     "execution_count": 19,
     "metadata": {},
     "output_type": "execute_result"
    }
   ],
   "source": [
    "X_train"
   ]
  },
  {
   "cell_type": "markdown",
   "metadata": {},
   "source": [
    "# Part 2 - Now let's make the ANN!"
   ]
  },
  {
   "cell_type": "code",
   "execution_count": 20,
   "metadata": {},
   "outputs": [
    {
     "name": "stderr",
     "output_type": "stream",
     "text": [
      "F:\\life\\lib\\site-packages\\h5py\\__init__.py:36: FutureWarning: Conversion of the second argument of issubdtype from `float` to `np.floating` is deprecated. In future, it will be treated as `np.float64 == np.dtype(float).type`.\n",
      "  from ._conv import register_converters as _register_converters\n",
      "Using TensorFlow backend.\n"
     ]
    }
   ],
   "source": [
    "\n",
    "# Part 2 - Now let's make the ANN!\n",
    "\n",
    "# Importing the Keras libraries and packages\n",
    "import keras\n",
    "from keras.models import Sequential\n",
    "from keras.layers import Dense"
   ]
  },
  {
   "cell_type": "code",
   "execution_count": 21,
   "metadata": {},
   "outputs": [],
   "source": [
    "\n",
    "# Initialising the ANN\n",
    "classifier = Sequential()\n"
   ]
  },
  {
   "cell_type": "code",
   "execution_count": 22,
   "metadata": {},
   "outputs": [
    {
     "name": "stdout",
     "output_type": "stream",
     "text": [
      "WARNING:tensorflow:From F:\\life\\lib\\site-packages\\tensorflow\\python\\framework\\op_def_library.py:263: colocate_with (from tensorflow.python.framework.ops) is deprecated and will be removed in a future version.\n",
      "Instructions for updating:\n",
      "Colocations handled automatically by placer.\n"
     ]
    }
   ],
   "source": [
    "# Adding the input layer and the first hidden layer\n",
    "classifier.add(Dense(units = 6, kernel_initializer = 'uniform', activation = 'relu', input_dim = 11))\n",
    "\n",
    "# Adding the second hidden layer\n",
    "classifier.add(Dense(units = 6, kernel_initializer = 'uniform', activation = 'relu'))\n",
    "\n",
    "# Adding the output layer\n",
    "classifier.add(Dense(units = 1, kernel_initializer = 'uniform', activation = 'sigmoid'))\n",
    "\n"
   ]
  },
  {
   "cell_type": "code",
   "execution_count": 23,
   "metadata": {},
   "outputs": [],
   "source": [
    "\n",
    "# Compiling the ANN\n",
    "classifier.compile(optimizer = 'adam', loss = 'binary_crossentropy', metrics = ['accuracy'])\n"
   ]
  },
  {
   "cell_type": "code",
   "execution_count": 24,
   "metadata": {},
   "outputs": [
    {
     "name": "stdout",
     "output_type": "stream",
     "text": [
      "_________________________________________________________________\n",
      "Layer (type)                 Output Shape              Param #   \n",
      "=================================================================\n",
      "dense_1 (Dense)              (None, 6)                 72        \n",
      "_________________________________________________________________\n",
      "dense_2 (Dense)              (None, 6)                 42        \n",
      "_________________________________________________________________\n",
      "dense_3 (Dense)              (None, 1)                 7         \n",
      "=================================================================\n",
      "Total params: 121\n",
      "Trainable params: 121\n",
      "Non-trainable params: 0\n",
      "_________________________________________________________________\n"
     ]
    }
   ],
   "source": [
    "classifier.summary()"
   ]
  },
  {
   "cell_type": "code",
   "execution_count": 25,
   "metadata": {},
   "outputs": [
    {
     "name": "stdout",
     "output_type": "stream",
     "text": [
      "WARNING:tensorflow:From F:\\life\\lib\\site-packages\\tensorflow\\python\\ops\\math_ops.py:3066: to_int32 (from tensorflow.python.ops.math_ops) is deprecated and will be removed in a future version.\n",
      "Instructions for updating:\n",
      "Use tf.cast instead.\n",
      "Epoch 1/100\n",
      "7992/7992 [==============================] - 1s 155us/step - loss: 0.4915 - acc: 0.7963 1s - loss: 0.6174 -\n",
      "Epoch 2/100\n",
      "7992/7992 [==============================] - 1s 108us/step - loss: 0.4161 - acc: 0.8173\n",
      "Epoch 3/100\n",
      "7992/7992 [==============================] - 1s 108us/step - loss: 0.4039 - acc: 0.8233\n",
      "Epoch 4/100\n",
      "7992/7992 [==============================] - 1s 111us/step - loss: 0.3930 - acc: 0.8256\n",
      "Epoch 5/100\n",
      "7992/7992 [==============================] - 1s 108us/step - loss: 0.3846 - acc: 0.8268\n",
      "Epoch 6/100\n",
      "7992/7992 [==============================] - 1s 106us/step - loss: 0.3777 - acc: 0.8305\n",
      "Epoch 7/100\n",
      "7992/7992 [==============================] - 1s 108us/step - loss: 0.3735 - acc: 0.8412\n",
      "Epoch 8/100\n",
      "7992/7992 [==============================] - 1s 123us/step - loss: 0.3688 - acc: 0.8472\n",
      "Epoch 9/100\n",
      "7992/7992 [==============================] - 1s 122us/step - loss: 0.3664 - acc: 0.8486\n",
      "Epoch 10/100\n",
      "7992/7992 [==============================] - 1s 98us/step - loss: 0.3631 - acc: 0.8536\n",
      "Epoch 11/100\n",
      "7992/7992 [==============================] - 1s 106us/step - loss: 0.3618 - acc: 0.8522\n",
      "Epoch 12/100\n",
      "7992/7992 [==============================] - 1s 107us/step - loss: 0.3593 - acc: 0.8511\n",
      "Epoch 13/100\n",
      "7992/7992 [==============================] - 1s 105us/step - loss: 0.3574 - acc: 0.8535\n",
      "Epoch 14/100\n",
      "7992/7992 [==============================] - 1s 104us/step - loss: 0.3566 - acc: 0.8530\n",
      "Epoch 15/100\n",
      "7992/7992 [==============================] - 1s 102us/step - loss: 0.3556 - acc: 0.8517\n",
      "Epoch 16/100\n",
      "7992/7992 [==============================] - 1s 126us/step - loss: 0.3546 - acc: 0.8551\n",
      "Epoch 17/100\n",
      "7992/7992 [==============================] - 1s 127us/step - loss: 0.3536 - acc: 0.8557\n",
      "Epoch 18/100\n",
      "7992/7992 [==============================] - 1s 114us/step - loss: 0.3535 - acc: 0.8547\n",
      "Epoch 19/100\n",
      "7992/7992 [==============================] - 1s 114us/step - loss: 0.3532 - acc: 0.8567\n",
      "Epoch 20/100\n",
      "7992/7992 [==============================] - 1s 119us/step - loss: 0.3522 - acc: 0.8576\n",
      "Epoch 21/100\n",
      "7992/7992 [==============================] - 1s 106us/step - loss: 0.3515 - acc: 0.8576\n",
      "Epoch 22/100\n",
      "7992/7992 [==============================] - 1s 104us/step - loss: 0.3510 - acc: 0.8545\n",
      "Epoch 23/100\n",
      "7992/7992 [==============================] - 1s 106us/step - loss: 0.3497 - acc: 0.8551\n",
      "Epoch 24/100\n",
      "7992/7992 [==============================] - 1s 105us/step - loss: 0.3509 - acc: 0.8561\n",
      "Epoch 25/100\n",
      "7992/7992 [==============================] - 1s 106us/step - loss: 0.3501 - acc: 0.8569 0s - loss: 0.3481 - acc: 0.8\n",
      "Epoch 26/100\n",
      "7992/7992 [==============================] - 1s 104us/step - loss: 0.3492 - acc: 0.8562\n",
      "Epoch 27/100\n",
      "7992/7992 [==============================] - 1s 106us/step - loss: 0.3493 - acc: 0.8584\n",
      "Epoch 28/100\n",
      "7992/7992 [==============================] - 1s 104us/step - loss: 0.3472 - acc: 0.8549 0s - loss: 0.3485 - acc: 0.85\n",
      "Epoch 29/100\n",
      "7992/7992 [==============================] - 1s 105us/step - loss: 0.3485 - acc: 0.8555\n",
      "Epoch 30/100\n",
      "7992/7992 [==============================] - 1s 106us/step - loss: 0.3484 - acc: 0.8561\n",
      "Epoch 31/100\n",
      "7992/7992 [==============================] - 1s 106us/step - loss: 0.3470 - acc: 0.8566\n",
      "Epoch 32/100\n",
      "7992/7992 [==============================] - 1s 106us/step - loss: 0.3475 - acc: 0.8574\n",
      "Epoch 33/100\n",
      "7992/7992 [==============================] - 1s 114us/step - loss: 0.3472 - acc: 0.8575\n",
      "Epoch 34/100\n",
      "7992/7992 [==============================] - 1s 106us/step - loss: 0.3458 - acc: 0.8576\n",
      "Epoch 35/100\n",
      "7992/7992 [==============================] - 1s 115us/step - loss: 0.3473 - acc: 0.8554\n",
      "Epoch 36/100\n",
      "7992/7992 [==============================] - 1s 107us/step - loss: 0.3462 - acc: 0.8559\n",
      "Epoch 37/100\n",
      "7992/7992 [==============================] - 1s 107us/step - loss: 0.3458 - acc: 0.8594\n",
      "Epoch 38/100\n",
      "7992/7992 [==============================] - 1s 106us/step - loss: 0.3452 - acc: 0.8597\n",
      "Epoch 39/100\n",
      "7992/7992 [==============================] - 1s 108us/step - loss: 0.3454 - acc: 0.8556\n",
      "Epoch 40/100\n",
      "7992/7992 [==============================] - 1s 108us/step - loss: 0.3444 - acc: 0.8582\n",
      "Epoch 41/100\n",
      "7992/7992 [==============================] - 1s 108us/step - loss: 0.3440 - acc: 0.8605\n",
      "Epoch 42/100\n",
      "7992/7992 [==============================] - 1s 104us/step - loss: 0.3448 - acc: 0.8596\n",
      "Epoch 43/100\n",
      "7992/7992 [==============================] - 1s 111us/step - loss: 0.3443 - acc: 0.8601\n",
      "Epoch 44/100\n",
      "7992/7992 [==============================] - 1s 113us/step - loss: 0.3441 - acc: 0.8614\n",
      "Epoch 45/100\n",
      "7992/7992 [==============================] - 1s 115us/step - loss: 0.3437 - acc: 0.8585\n",
      "Epoch 46/100\n",
      "7992/7992 [==============================] - 1s 118us/step - loss: 0.3432 - acc: 0.8574\n",
      "Epoch 47/100\n",
      "7992/7992 [==============================] - 1s 108us/step - loss: 0.3431 - acc: 0.8562\n",
      "Epoch 48/100\n",
      "7992/7992 [==============================] - 1s 106us/step - loss: 0.3426 - acc: 0.8592\n",
      "Epoch 49/100\n",
      "7992/7992 [==============================] - 1s 110us/step - loss: 0.3423 - acc: 0.8572\n",
      "Epoch 50/100\n",
      "7992/7992 [==============================] - 1s 108us/step - loss: 0.3413 - acc: 0.8569\n",
      "Epoch 51/100\n",
      "7992/7992 [==============================] - 1s 113us/step - loss: 0.3419 - acc: 0.8606\n",
      "Epoch 52/100\n",
      "7992/7992 [==============================] - 1s 117us/step - loss: 0.3414 - acc: 0.8599\n",
      "Epoch 53/100\n",
      "7992/7992 [==============================] - 1s 112us/step - loss: 0.3402 - acc: 0.8601\n",
      "Epoch 54/100\n",
      "7992/7992 [==============================] - 1s 106us/step - loss: 0.3393 - acc: 0.8597\n",
      "Epoch 55/100\n",
      "7992/7992 [==============================] - 1s 108us/step - loss: 0.3415 - acc: 0.8567\n",
      "Epoch 56/100\n",
      "7992/7992 [==============================] - 1s 110us/step - loss: 0.3397 - acc: 0.8585\n",
      "Epoch 57/100\n",
      "7992/7992 [==============================] - 1s 108us/step - loss: 0.3403 - acc: 0.8577\n",
      "Epoch 58/100\n",
      "7992/7992 [==============================] - 1s 102us/step - loss: 0.3395 - acc: 0.8585\n",
      "Epoch 59/100\n",
      "7992/7992 [==============================] - 1s 104us/step - loss: 0.3401 - acc: 0.8600\n",
      "Epoch 60/100\n",
      "7992/7992 [==============================] - 1s 117us/step - loss: 0.3395 - acc: 0.8582\n",
      "Epoch 61/100\n",
      "7992/7992 [==============================] - 1s 99us/step - loss: 0.3392 - acc: 0.8616\n",
      "Epoch 62/100\n",
      "7992/7992 [==============================] - 1s 97us/step - loss: 0.3392 - acc: 0.8584\n",
      "Epoch 63/100\n",
      "7992/7992 [==============================] - 1s 92us/step - loss: 0.3393 - acc: 0.8599\n",
      "Epoch 64/100\n",
      "7992/7992 [==============================] - 1s 92us/step - loss: 0.3392 - acc: 0.8594\n",
      "Epoch 65/100\n",
      "7992/7992 [==============================] - 1s 94us/step - loss: 0.3388 - acc: 0.8579\n",
      "Epoch 66/100\n",
      "7992/7992 [==============================] - 1s 92us/step - loss: 0.3390 - acc: 0.8600\n",
      "Epoch 67/100\n",
      "7992/7992 [==============================] - 1s 99us/step - loss: 0.3390 - acc: 0.8601\n",
      "Epoch 68/100\n",
      "7992/7992 [==============================] - 1s 93us/step - loss: 0.3387 - acc: 0.8587\n",
      "Epoch 69/100\n",
      "7992/7992 [==============================] - 1s 93us/step - loss: 0.3381 - acc: 0.8589\n",
      "Epoch 70/100\n",
      "7992/7992 [==============================] - 1s 94us/step - loss: 0.3376 - acc: 0.8614\n",
      "Epoch 71/100\n",
      "7992/7992 [==============================] - 1s 93us/step - loss: 0.3379 - acc: 0.8606\n",
      "Epoch 72/100\n",
      "7992/7992 [==============================] - 1s 96us/step - loss: 0.3386 - acc: 0.8599: 0s - loss: 0.3391 - acc\n",
      "Epoch 73/100\n",
      "7992/7992 [==============================] - 1s 118us/step - loss: 0.3390 - acc: 0.8606 0s - loss: 0.3377 - acc\n",
      "Epoch 74/100\n",
      "7992/7992 [==============================] - 1s 94us/step - loss: 0.3385 - acc: 0.8586\n",
      "Epoch 75/100\n",
      "7992/7992 [==============================] - 1s 120us/step - loss: 0.3392 - acc: 0.8607\n",
      "Epoch 76/100\n",
      "7992/7992 [==============================] - 1s 98us/step - loss: 0.3381 - acc: 0.8594\n",
      "Epoch 77/100\n",
      "7992/7992 [==============================] - 1s 98us/step - loss: 0.3375 - acc: 0.8626\n",
      "Epoch 78/100\n"
     ]
    },
    {
     "name": "stdout",
     "output_type": "stream",
     "text": [
      "7992/7992 [==============================] - 1s 97us/step - loss: 0.3390 - acc: 0.8574: 0s - loss: 0.3333 - acc\n",
      "Epoch 79/100\n",
      "7992/7992 [==============================] - 1s 104us/step - loss: 0.3388 - acc: 0.8584\n",
      "Epoch 80/100\n",
      "7992/7992 [==============================] - 1s 103us/step - loss: 0.3373 - acc: 0.8607\n",
      "Epoch 81/100\n",
      "7992/7992 [==============================] - 1s 130us/step - loss: 0.3383 - acc: 0.8607 0s - loss: 0.3382 - acc\n",
      "Epoch 82/100\n",
      "7992/7992 [==============================] - 1s 106us/step - loss: 0.3382 - acc: 0.8600\n",
      "Epoch 83/100\n",
      "7992/7992 [==============================] - 1s 108us/step - loss: 0.3386 - acc: 0.8589\n",
      "Epoch 84/100\n",
      "7992/7992 [==============================] - 1s 106us/step - loss: 0.3379 - acc: 0.8607\n",
      "Epoch 85/100\n",
      "7992/7992 [==============================] - 1s 106us/step - loss: 0.3378 - acc: 0.8604\n",
      "Epoch 86/100\n",
      "7992/7992 [==============================] - 1s 101us/step - loss: 0.3377 - acc: 0.8612\n",
      "Epoch 87/100\n",
      "7992/7992 [==============================] - 1s 123us/step - loss: 0.3382 - acc: 0.8606\n",
      "Epoch 88/100\n",
      "7992/7992 [==============================] - 1s 107us/step - loss: 0.3377 - acc: 0.8606\n",
      "Epoch 89/100\n",
      "7992/7992 [==============================] - 1s 101us/step - loss: 0.3381 - acc: 0.8606 0s - loss: 0.3352 - acc: 0.\n",
      "Epoch 90/100\n",
      "7992/7992 [==============================] - 1s 104us/step - loss: 0.3365 - acc: 0.8601\n",
      "Epoch 91/100\n",
      "7992/7992 [==============================] - 1s 98us/step - loss: 0.3374 - acc: 0.8590\n",
      "Epoch 92/100\n",
      "7992/7992 [==============================] - 1s 93us/step - loss: 0.3377 - acc: 0.8601\n",
      "Epoch 93/100\n",
      "7992/7992 [==============================] - 1s 91us/step - loss: 0.3378 - acc: 0.8606\n",
      "Epoch 94/100\n",
      "7992/7992 [==============================] - 1s 90us/step - loss: 0.3380 - acc: 0.8584\n",
      "Epoch 95/100\n",
      "7992/7992 [==============================] - 1s 94us/step - loss: 0.3370 - acc: 0.8602\n",
      "Epoch 96/100\n",
      "7992/7992 [==============================] - 1s 90us/step - loss: 0.3370 - acc: 0.8595\n",
      "Epoch 97/100\n",
      "7992/7992 [==============================] - 1s 92us/step - loss: 0.3377 - acc: 0.8594\n",
      "Epoch 98/100\n",
      "7992/7992 [==============================] - 1s 100us/step - loss: 0.3375 - acc: 0.8594\n",
      "Epoch 99/100\n",
      "7992/7992 [==============================] - 1s 88us/step - loss: 0.3372 - acc: 0.8601\n",
      "Epoch 100/100\n",
      "7992/7992 [==============================] - 1s 106us/step - loss: 0.3373 - acc: 0.8609\n"
     ]
    },
    {
     "data": {
      "text/plain": [
       "<keras.callbacks.History at 0x1c6a15e3cc0>"
      ]
     },
     "execution_count": 25,
     "metadata": {},
     "output_type": "execute_result"
    }
   ],
   "source": [
    "\n",
    "# Fitting the ANN to the Training set\n",
    "classifier.fit(X_train, y_train, batch_size = 10, epochs = 100)\n"
   ]
  },
  {
   "cell_type": "code",
   "execution_count": 26,
   "metadata": {},
   "outputs": [
    {
     "data": {
      "text/plain": [
       "array([[0.915893  ],\n",
       "       [0.11415115],\n",
       "       [0.04823163],\n",
       "       ...,\n",
       "       [0.2917756 ],\n",
       "       [0.05188147],\n",
       "       [0.5161404 ]], dtype=float32)"
      ]
     },
     "execution_count": 26,
     "metadata": {},
     "output_type": "execute_result"
    }
   ],
   "source": [
    "# Part 3 - Making predictions and evaluating the model\n",
    "\n",
    "# Predicting the Test set results\n",
    "y_pred = classifier.predict(X_test)\n",
    "y_pred"
   ]
  },
  {
   "cell_type": "code",
   "execution_count": 27,
   "metadata": {},
   "outputs": [
    {
     "data": {
      "text/plain": [
       "array([[ True],\n",
       "       [False],\n",
       "       [False],\n",
       "       ...,\n",
       "       [False],\n",
       "       [False],\n",
       "       [ True]])"
      ]
     },
     "execution_count": 27,
     "metadata": {},
     "output_type": "execute_result"
    }
   ],
   "source": [
    "y_pred = (y_pred > 0.5)\n",
    "y_pred"
   ]
  },
  {
   "cell_type": "code",
   "execution_count": 28,
   "metadata": {},
   "outputs": [
    {
     "data": {
      "text/plain": [
       "array([[ True],\n",
       "       [False],\n",
       "       [False],\n",
       "       [False],\n",
       "       [False],\n",
       "       [False],\n",
       "       [False],\n",
       "       [False],\n",
       "       [False],\n",
       "       [False]])"
      ]
     },
     "execution_count": 28,
     "metadata": {},
     "output_type": "execute_result"
    }
   ],
   "source": [
    "y_pred[0:10]"
   ]
  },
  {
   "cell_type": "markdown",
   "metadata": {},
   "source": [
    "# Part 3 Predicting a single new observation"
   ]
  },
  {
   "cell_type": "code",
   "execution_count": 29,
   "metadata": {},
   "outputs": [],
   "source": [
    "# Predicting a single new observation\n",
    "#\"\"\"Predict if the customer with the following informations will leave the bank:\n",
    "#Geography: France\n",
    "#Credit Score: 600\n",
    "# Gender: Male\n",
    "# Age: 40\n",
    "# Tenure: 3\n",
    "# Balance: 60000\n",
    "# Number of Products: 2\n",
    "# Has Credit Card: Yes\n",
    "# Is Active Member: Yes\n",
    "# Estimated Salary: 50000\"\"\""
   ]
  },
  {
   "cell_type": "code",
   "execution_count": null,
   "metadata": {},
   "outputs": [],
   "source": [
    "# CreditScore\tGeography\tGender\tAge\tTenure\tBalance\tNumOfProducts\tHasCrCard\tIsActiveMember\tEstimatedSalary\tExited\n",
    "# 549\tSpain\tFemale\t24\t9\t0\t2\t1\t1\t14406.41\t0\n",
    "# 722\tSpain\tFemale\t29\t9\t0\t2\t1\t1\t142033.07\t0\n",
    "# 788\tFrance\tFemale\t33\t5\t0\t2\t0\t0\t116978.19\t0\n",
    "# 581\tGermany\tFemale\t34\t1\t101633.04\t1\t1\t0\t110431.51\t0\n",
    "# 735\tFrance\tFemale\t21\t1\t178718.19\t2\t1\t0\t22388\t0\n",
    "\t\t\t\t\t\t\t\t\t\t\n",
    "\t\t\t\t\t\t\t\t\t\t\n",
    "# 735\tFrance\tFemale\t21\t1\t178718.19\t2\t1\t0\t22388\t0\n",
    "# 687\tSpain\tFemale\t44\t7\t0\t3\t1\t0\t155853.52\t1\n",
    "# 693\tGermany\tFemale\t41\t9\t181461.48\t3\t1\t1\t187929.43\t1\n",
    "# 553\tSpain\tMale\t47\t3\t116528.15\t1\t0\t0\t145704.19\t1\n",
    "# 662\tFrance\tFemale\t32\t4\t133950.37\t1\t1\t1\t48725.68\t1\n",
    "# 621\tSpain\tMale\t53\t9\t170491.84\t1\t1\t0\t35588.07\t1\n",
    "\t\t\t\t\t\t\t\t\t\t\n",
    "# 601\tFrance\tFemale\t43\t8\t0\t3\t0\t1\t110916.15\t1\n"
   ]
  },
  {
   "cell_type": "code",
   "execution_count": null,
   "metadata": {},
   "outputs": [],
   "source": []
  },
  {
   "cell_type": "code",
   "execution_count": 32,
   "metadata": {},
   "outputs": [
    {
     "data": {
      "text/plain": [
       "array([[1.]], dtype=float32)"
      ]
     },
     "execution_count": 32,
     "metadata": {},
     "output_type": "execute_result"
    }
   ],
   "source": [
    "new_prediction_1 = classifier.predict(sc.transform(np.array([[549, 0.0 ,0, 0,24,9, 0, 2, 1, 1, 14406.41]])))\n",
    "\n",
    "new_prediction_1"
   ]
  },
  {
   "cell_type": "code",
   "execution_count": 33,
   "metadata": {},
   "outputs": [
    {
     "data": {
      "text/plain": [
       "array([[ True]])"
      ]
     },
     "execution_count": 33,
     "metadata": {},
     "output_type": "execute_result"
    }
   ],
   "source": [
    "new_prediction_1 = (new_prediction_1 > 0.5)\n",
    "new_prediction_1"
   ]
  },
  {
   "cell_type": "code",
   "execution_count": null,
   "metadata": {},
   "outputs": [],
   "source": [
    "\n",
    "# # Making the Confusion Matrix\n",
    "# from sklearn.metrics import confusion_matrix\n",
    "# cm = confusion_matrix(y_test, new_prediction_1)"
   ]
  },
  {
   "cell_type": "code",
   "execution_count": 36,
   "metadata": {},
   "outputs": [
    {
     "data": {
      "text/plain": [
       "array([[1.]], dtype=float32)"
      ]
     },
     "execution_count": 36,
     "metadata": {},
     "output_type": "execute_result"
    }
   ],
   "source": [
    "new_prediction_2 = classifier.predict(sc.transform(np.array([[649, 0.1 ,0, 0,43,8, 0, 3, 0, 1, 110916.15]])))\n",
    "\n",
    "new_prediction_2"
   ]
  },
  {
   "cell_type": "code",
   "execution_count": 37,
   "metadata": {},
   "outputs": [
    {
     "data": {
      "text/plain": [
       "array([[ True]])"
      ]
     },
     "execution_count": 37,
     "metadata": {},
     "output_type": "execute_result"
    }
   ],
   "source": [
    "new_prediction_2 = (new_prediction_1 > 0.5)\n",
    "new_prediction_2"
   ]
  },
  {
   "cell_type": "code",
   "execution_count": null,
   "metadata": {},
   "outputs": [],
   "source": []
  },
  {
   "cell_type": "code",
   "execution_count": 38,
   "metadata": {},
   "outputs": [
    {
     "ename": "SyntaxError",
     "evalue": "invalid syntax (<ipython-input-38-cbdd21803a7a>, line 2)",
     "output_type": "error",
     "traceback": [
      "\u001b[1;36m  File \u001b[1;32m\"<ipython-input-38-cbdd21803a7a>\"\u001b[1;36m, line \u001b[1;32m2\u001b[0m\n\u001b[1;33m    new_prediction_2 = classifier.predict(sc.transform(np.array([[62, 0.1 ,0, 0,32,4, 133950.37, 1, 1, 1, 18725.68])))\u001b[0m\n\u001b[1;37m                                                                                                                   ^\u001b[0m\n\u001b[1;31mSyntaxError\u001b[0m\u001b[1;31m:\u001b[0m invalid syntax\n"
     ]
    }
   ],
   "source": [
    "# 662\tFrance\tFemale\t32\t4\t133950.37\t1\t1\t1\t48725.68\t1\n",
    "new_prediction_2 = classifier.predict(sc.transform(np.array([[62, 0.1 ,0, 0,32,4, 133950.37, 1, 1, 1, 18725.68])))\n",
    "\n",
    "new_prediction_2"
   ]
  },
  {
   "cell_type": "code",
   "execution_count": null,
   "metadata": {},
   "outputs": [],
   "source": []
  },
  {
   "cell_type": "code",
   "execution_count": null,
   "metadata": {},
   "outputs": [],
   "source": []
  },
  {
   "cell_type": "code",
   "execution_count": null,
   "metadata": {},
   "outputs": [],
   "source": []
  },
  {
   "cell_type": "code",
   "execution_count": null,
   "metadata": {},
   "outputs": [],
   "source": []
  },
  {
   "cell_type": "code",
   "execution_count": null,
   "metadata": {},
   "outputs": [],
   "source": [
    "\n",
    "\n",
    "\n",
    "# Predicting a single new observation\n",
    "#\"\"\"Predict if the customer with the following informations will leave the bank:\n",
    "#Geography: Ger\n",
    "#Credit Score: 747\n",
    "# Gender: Male\n",
    "# Age: 36\n",
    "# Tenure: 8\n",
    "# Balance: 102603.3\n",
    "# Number of Products: 2\n",
    "# Has Credit Card: Yes\n",
    "# Is Active Member: Yes\n",
    "# Estimated Salary: 182603\"\"\""
   ]
  },
  {
   "cell_type": "code",
   "execution_count": 29,
   "metadata": {},
   "outputs": [
    {
     "data": {
      "text/plain": [
       "array([[False]])"
      ]
     },
     "execution_count": 29,
     "metadata": {},
     "output_type": "execute_result"
    }
   ],
   "source": [
    "new_prediction_2 = classifier.predict(sc.transform(np.array([[1.0, 0, 747, 1, 36, 8, 102603, 2, 1, 1, 180693]])))\n",
    "new_prediction_2 = (new_prediction_2 > 0.5)\n",
    "new_prediction_2"
   ]
  },
  {
   "cell_type": "code",
   "execution_count": 32,
   "metadata": {},
   "outputs": [
    {
     "data": {
      "text/plain": [
       "array([[False]])"
      ]
     },
     "execution_count": 32,
     "metadata": {},
     "output_type": "execute_result"
    }
   ],
   "source": [
    "new_prediction_3 = classifier.predict(sc.transform(np.array([[0.0, 0, 655, 1, 41, 8, 125562, 1, 0, 0, 164040]])))\n",
    "new_prediction_3 = (new_prediction_3 > 0.5)\n",
    "new_prediction_3"
   ]
  },
  {
   "cell_type": "code",
   "execution_count": 33,
   "metadata": {},
   "outputs": [
    {
     "data": {
      "text/plain": [
       "array([[False]])"
      ]
     },
     "execution_count": 33,
     "metadata": {},
     "output_type": "execute_result"
    }
   ],
   "source": [
    "new_prediction_= classifier.predict(sc.transform(np.array([[0.0, 0, 698, 1, 44, 10, 116364.4, 2, 1, 0, 198059.16]])))\n",
    "new_prediction_ = (new_prediction_3 > 0.5)\n",
    "new_prediction_3"
   ]
  },
  {
   "cell_type": "code",
   "execution_count": 37,
   "metadata": {},
   "outputs": [
    {
     "data": {
      "text/plain": [
       "array([[0.49430588]], dtype=float32)"
      ]
     },
     "execution_count": 37,
     "metadata": {},
     "output_type": "execute_result"
    }
   ],
   "source": [
    "new_prediction_5 = classifier.predict(sc.transform(np.array([[0.0, 0,586, 0, 54, 4, 154864.4, 2, 1, 1, 248476.16]])))\n",
    "new_prediction_5\n"
   ]
  },
  {
   "cell_type": "code",
   "execution_count": 38,
   "metadata": {},
   "outputs": [
    {
     "data": {
      "text/plain": [
       "array([[False]])"
      ]
     },
     "execution_count": 38,
     "metadata": {},
     "output_type": "execute_result"
    }
   ],
   "source": [
    "new_prediction_5 = (new_prediction_5 > 0.5)\n",
    "new_prediction_5"
   ]
  },
  {
   "cell_type": "code",
   "execution_count": 46,
   "metadata": {},
   "outputs": [
    {
     "data": {
      "text/plain": [
       "array([[0.10806476]], dtype=float32)"
      ]
     },
     "execution_count": 46,
     "metadata": {},
     "output_type": "execute_result"
    }
   ],
   "source": [
    "new_prediction_6 = classifier.predict(sc.transform(np.array([[0.00,0, 683, 1, 40, 4, 95053.1, 1, 1, 1, 116816.54]])))\n",
    "new_prediction_6"
   ]
  },
  {
   "cell_type": "code",
   "execution_count": 47,
   "metadata": {},
   "outputs": [
    {
     "data": {
      "text/plain": [
       "array([[False]])"
      ]
     },
     "execution_count": 47,
     "metadata": {},
     "output_type": "execute_result"
    }
   ],
   "source": [
    "new_prediction_6 = (new_prediction_5 > 0.5)\n",
    "new_prediction_6"
   ]
  },
  {
   "cell_type": "code",
   "execution_count": null,
   "metadata": {},
   "outputs": [],
   "source": [
    "\n",
    "# Making the Confusion Matrix\n",
    "from sklearn.metrics import confusion_matrix\n",
    "cm = confusion_matrix(y_test, y_pred)"
   ]
  },
  {
   "cell_type": "code",
   "execution_count": null,
   "metadata": {},
   "outputs": [],
   "source": []
  },
  {
   "cell_type": "code",
   "execution_count": null,
   "metadata": {},
   "outputs": [],
   "source": []
  },
  {
   "cell_type": "code",
   "execution_count": null,
   "metadata": {},
   "outputs": [],
   "source": []
  },
  {
   "cell_type": "code",
   "execution_count": null,
   "metadata": {},
   "outputs": [],
   "source": [
    "cm"
   ]
  },
  {
   "cell_type": "code",
   "execution_count": null,
   "metadata": {},
   "outputs": [],
   "source": [
    "# accuracy =(TN+TP)/(TN+TP+FN+FP)"
   ]
  },
  {
   "cell_type": "code",
   "execution_count": null,
   "metadata": {},
   "outputs": [],
   "source": [
    "TN= 1503\n",
    "TP= 219\n",
    "total =2000\n",
    "acc =(TN+TP)/2000\n",
    "acc"
   ]
  },
  {
   "cell_type": "code",
   "execution_count": null,
   "metadata": {},
   "outputs": [],
   "source": []
  }
 ],
 "metadata": {
  "kernelspec": {
   "display_name": "Python 3",
   "language": "python",
   "name": "python3"
  },
  "language_info": {
   "codemirror_mode": {
    "name": "ipython",
    "version": 3
   },
   "file_extension": ".py",
   "mimetype": "text/x-python",
   "name": "python",
   "nbconvert_exporter": "python",
   "pygments_lexer": "ipython3",
   "version": "3.6.5"
  }
 },
 "nbformat": 4,
 "nbformat_minor": 2
}
